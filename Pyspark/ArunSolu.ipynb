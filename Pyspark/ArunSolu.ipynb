{
 "cells": [
  {
   "cell_type": "code",
   "execution_count": 2,
   "metadata": {},
   "outputs": [],
   "source": [
    "from pyspark.sql import SparkSession\n",
    "spark = SparkSession.builder.appName('ArunSol1').master('yarn').getOrCreate()"
   ]
  },
  {
   "cell_type": "code",
   "execution_count": 3,
   "metadata": {},
   "outputs": [
    {
     "data": {
      "text/plain": [
       "DataFrame[]"
      ]
     },
     "execution_count": 3,
     "metadata": {},
     "output_type": "execute_result"
    }
   ],
   "source": [
    "spark.sql('use indirameduri')"
   ]
  },
  {
   "cell_type": "code",
   "execution_count": 4,
   "metadata": {},
   "outputs": [
    {
     "name": "stdout",
     "output_type": "stream",
     "text": [
      "+-------------+-------------------+---------------------+-------------------+-------------------+------------------------+\n",
      "|order_item_id|order_item_order_id|order_item_product_id|order_item_quantity|order_item_subtotal|order_item_product_price|\n",
      "+-------------+-------------------+---------------------+-------------------+-------------------+------------------------+\n",
      "|            1|                  1|                  957|                  1|             299.98|                  299.98|\n",
      "|            2|                  2|                 1073|                  1|             199.99|                  199.99|\n",
      "|            3|                  2|                  502|                  5|              250.0|                    50.0|\n",
      "|            4|                  2|                  403|                  1|             129.99|                  129.99|\n",
      "|            5|                  4|                  897|                  2|              49.98|                   24.99|\n",
      "|            6|                  4|                  365|                  5|             299.95|                   59.99|\n",
      "|            7|                  4|                  502|                  3|              150.0|                    50.0|\n",
      "|            8|                  4|                 1014|                  4|             199.92|                   49.98|\n",
      "|            9|                  5|                  957|                  1|             299.98|                  299.98|\n",
      "|           10|                  5|                  365|                  5|             299.95|                   59.99|\n",
      "|           11|                  5|                 1014|                  2|              99.96|                   49.98|\n",
      "|           12|                  5|                  957|                  1|             299.98|                  299.98|\n",
      "|           13|                  5|                  403|                  1|             129.99|                  129.99|\n",
      "|           14|                  7|                 1073|                  1|             199.99|                  199.99|\n",
      "|           15|                  7|                  957|                  1|             299.98|                  299.98|\n",
      "|           16|                  7|                  926|                  5|              79.95|                   15.99|\n",
      "|           17|                  8|                  365|                  3|             179.97|                   59.99|\n",
      "|           18|                  8|                  365|                  5|             299.95|                   59.99|\n",
      "|           19|                  8|                 1014|                  4|             199.92|                   49.98|\n",
      "|           20|                  8|                  502|                  1|               50.0|                    50.0|\n",
      "+-------------+-------------------+---------------------+-------------------+-------------------+------------------------+\n",
      "only showing top 20 rows\n",
      "\n"
     ]
    }
   ],
   "source": [
    "orderItemDF= spark.read.table('order_items')\n",
    "orderItemDF.show()"
   ]
  },
  {
   "cell_type": "code",
   "execution_count": 42,
   "metadata": {},
   "outputs": [
    {
     "name": "stdout",
     "output_type": "stream",
     "text": [
      "+--------+--------------------+-------------+---------------+\n",
      "|order_id|          order_date|order_cust_id|   order_status|\n",
      "+--------+--------------------+-------------+---------------+\n",
      "|       1|2013-07-25 00:00:...|        11599|         CLOSED|\n",
      "|       2|2013-07-25 00:00:...|          256|PENDING_PAYMENT|\n",
      "|       3|2013-07-25 00:00:...|        12111|       COMPLETE|\n",
      "|       4|2013-07-25 00:00:...|         8827|         CLOSED|\n",
      "|       5|2013-07-25 00:00:...|        11318|       COMPLETE|\n",
      "|       6|2013-07-25 00:00:...|         7130|       COMPLETE|\n",
      "|       7|2013-07-25 00:00:...|         4530|       COMPLETE|\n",
      "|       8|2013-07-25 00:00:...|         2911|     PROCESSING|\n",
      "|       9|2013-07-25 00:00:...|         5657|PENDING_PAYMENT|\n",
      "|      10|2013-07-25 00:00:...|         5648|PENDING_PAYMENT|\n",
      "|      11|2013-07-25 00:00:...|          918| PAYMENT_REVIEW|\n",
      "|      12|2013-07-25 00:00:...|         1837|         CLOSED|\n",
      "|      13|2013-07-25 00:00:...|         9149|PENDING_PAYMENT|\n",
      "|      14|2013-07-25 00:00:...|         9842|     PROCESSING|\n",
      "|      15|2013-07-25 00:00:...|         2568|       COMPLETE|\n",
      "|      16|2013-07-25 00:00:...|         7276|PENDING_PAYMENT|\n",
      "|      17|2013-07-25 00:00:...|         2667|       COMPLETE|\n",
      "|      18|2013-07-25 00:00:...|         1205|         CLOSED|\n",
      "|      19|2013-07-25 00:00:...|         9488|PENDING_PAYMENT|\n",
      "|      20|2013-07-25 00:00:...|         9198|     PROCESSING|\n",
      "+--------+--------------------+-------------+---------------+\n",
      "only showing top 20 rows\n",
      "\n"
     ]
    }
   ],
   "source": [
    "ordersDF=spark.read.csv('/public/retail_db/orders').toDF('order_id' ,'order_date','order_cust_id','order_status')\n",
    "ordersDF.show()"
   ]
  },
  {
   "cell_type": "code",
   "execution_count": 65,
   "metadata": {},
   "outputs": [
    {
     "name": "stdout",
     "output_type": "stream",
     "text": [
      "root\n",
      " |-- order_id: string (nullable = true)\n",
      " |-- order_date: string (nullable = true)\n",
      " |-- order_cust_id: string (nullable = true)\n",
      " |-- order_status: string (nullable = true)\n",
      "\n"
     ]
    },
    {
     "data": {
      "text/plain": [
       "DataFrame[order_id: string, order_date: bigint, order_cust_id: string, order_status: string]"
      ]
     },
     "execution_count": 65,
     "metadata": {},
     "output_type": "execute_result"
    }
   ],
   "source": [
    "from pyspark.sql.types import *\n",
    "ordersDF.printSchema()\n",
    "ordersDF.withColumn('order_date',ordersDF.order_date.cast(LongType()))"
   ]
  },
  {
   "cell_type": "code",
   "execution_count": 66,
   "metadata": {},
   "outputs": [
    {
     "name": "stdout",
     "output_type": "stream",
     "text": [
      "+--------+--------------------+-------------+---------------+-------------+-------------------+---------------------+-------------------+-------------------+------------------------+\n",
      "|order_id|          order_date|order_cust_id|   order_status|order_item_id|order_item_order_id|order_item_product_id|order_item_quantity|order_item_subtotal|order_item_product_price|\n",
      "+--------+--------------------+-------------+---------------+-------------+-------------------+---------------------+-------------------+-------------------+------------------------+\n",
      "|       1|2013-07-25 00:00:...|        11599|         CLOSED|            1|                  1|                  957|                  1|             299.98|                  299.98|\n",
      "|       2|2013-07-25 00:00:...|          256|PENDING_PAYMENT|            2|                  2|                 1073|                  1|             199.99|                  199.99|\n",
      "|       2|2013-07-25 00:00:...|          256|PENDING_PAYMENT|            3|                  2|                  502|                  5|              250.0|                    50.0|\n",
      "|       2|2013-07-25 00:00:...|          256|PENDING_PAYMENT|            4|                  2|                  403|                  1|             129.99|                  129.99|\n",
      "|       4|2013-07-25 00:00:...|         8827|         CLOSED|            5|                  4|                  897|                  2|              49.98|                   24.99|\n",
      "|       4|2013-07-25 00:00:...|         8827|         CLOSED|            6|                  4|                  365|                  5|             299.95|                   59.99|\n",
      "|       4|2013-07-25 00:00:...|         8827|         CLOSED|            7|                  4|                  502|                  3|              150.0|                    50.0|\n",
      "|       4|2013-07-25 00:00:...|         8827|         CLOSED|            8|                  4|                 1014|                  4|             199.92|                   49.98|\n",
      "|       5|2013-07-25 00:00:...|        11318|       COMPLETE|            9|                  5|                  957|                  1|             299.98|                  299.98|\n",
      "|       5|2013-07-25 00:00:...|        11318|       COMPLETE|           10|                  5|                  365|                  5|             299.95|                   59.99|\n",
      "|       5|2013-07-25 00:00:...|        11318|       COMPLETE|           11|                  5|                 1014|                  2|              99.96|                   49.98|\n",
      "|       5|2013-07-25 00:00:...|        11318|       COMPLETE|           12|                  5|                  957|                  1|             299.98|                  299.98|\n",
      "|       5|2013-07-25 00:00:...|        11318|       COMPLETE|           13|                  5|                  403|                  1|             129.99|                  129.99|\n",
      "|       7|2013-07-25 00:00:...|         4530|       COMPLETE|           14|                  7|                 1073|                  1|             199.99|                  199.99|\n",
      "|       7|2013-07-25 00:00:...|         4530|       COMPLETE|           15|                  7|                  957|                  1|             299.98|                  299.98|\n",
      "|       7|2013-07-25 00:00:...|         4530|       COMPLETE|           16|                  7|                  926|                  5|              79.95|                   15.99|\n",
      "|       8|2013-07-25 00:00:...|         2911|     PROCESSING|           17|                  8|                  365|                  3|             179.97|                   59.99|\n",
      "|       8|2013-07-25 00:00:...|         2911|     PROCESSING|           18|                  8|                  365|                  5|             299.95|                   59.99|\n",
      "|       8|2013-07-25 00:00:...|         2911|     PROCESSING|           19|                  8|                 1014|                  4|             199.92|                   49.98|\n",
      "|       8|2013-07-25 00:00:...|         2911|     PROCESSING|           20|                  8|                  502|                  1|               50.0|                    50.0|\n",
      "+--------+--------------------+-------------+---------------+-------------+-------------------+---------------------+-------------------+-------------------+------------------------+\n",
      "only showing top 20 rows\n",
      "\n"
     ]
    }
   ],
   "source": [
    "\n",
    "joinedOrderDataDF = ordersDF.join(orderItemDF,ordersDF.order_id==orderItemDF.order_item_order_id)\n",
    "\n",
    "joinedOrderDataDF.createOrReplaceTempView('order_joined')\n",
    "joinedOrderDataDF.show()"
   ]
  },
  {
   "cell_type": "code",
   "execution_count": 67,
   "metadata": {},
   "outputs": [
    {
     "name": "stdout",
     "output_type": "stream",
     "text": [
      "+------------------------+---------+-------+\n",
      "|col_name                |data_type|comment|\n",
      "+------------------------+---------+-------+\n",
      "|order_id                |string   |null   |\n",
      "|order_date              |string   |null   |\n",
      "|order_cust_id           |string   |null   |\n",
      "|order_status            |string   |null   |\n",
      "|order_item_id           |int      |null   |\n",
      "|order_item_order_id     |int      |null   |\n",
      "|order_item_product_id   |int      |null   |\n",
      "|order_item_quantity     |tinyint  |null   |\n",
      "|order_item_subtotal     |double   |null   |\n",
      "|order_item_product_price|double   |null   |\n",
      "+------------------------+---------+-------+\n",
      "\n",
      "+--------+--------------------+-------------+---------------+-------------+-------------------+---------------------+-------------------+-------------------+------------------------+\n",
      "|order_id|          order_date|order_cust_id|   order_status|order_item_id|order_item_order_id|order_item_product_id|order_item_quantity|order_item_subtotal|order_item_product_price|\n",
      "+--------+--------------------+-------------+---------------+-------------+-------------------+---------------------+-------------------+-------------------+------------------------+\n",
      "|       1|2013-07-25 00:00:...|        11599|         CLOSED|            1|                  1|                  957|                  1|             299.98|                  299.98|\n",
      "|       2|2013-07-25 00:00:...|          256|PENDING_PAYMENT|            2|                  2|                 1073|                  1|             199.99|                  199.99|\n",
      "|       2|2013-07-25 00:00:...|          256|PENDING_PAYMENT|            3|                  2|                  502|                  5|              250.0|                    50.0|\n",
      "|       2|2013-07-25 00:00:...|          256|PENDING_PAYMENT|            4|                  2|                  403|                  1|             129.99|                  129.99|\n",
      "|       4|2013-07-25 00:00:...|         8827|         CLOSED|            5|                  4|                  897|                  2|              49.98|                   24.99|\n",
      "|       4|2013-07-25 00:00:...|         8827|         CLOSED|            6|                  4|                  365|                  5|             299.95|                   59.99|\n",
      "|       4|2013-07-25 00:00:...|         8827|         CLOSED|            7|                  4|                  502|                  3|              150.0|                    50.0|\n",
      "|       4|2013-07-25 00:00:...|         8827|         CLOSED|            8|                  4|                 1014|                  4|             199.92|                   49.98|\n",
      "|       5|2013-07-25 00:00:...|        11318|       COMPLETE|            9|                  5|                  957|                  1|             299.98|                  299.98|\n",
      "|       5|2013-07-25 00:00:...|        11318|       COMPLETE|           10|                  5|                  365|                  5|             299.95|                   59.99|\n",
      "|       5|2013-07-25 00:00:...|        11318|       COMPLETE|           11|                  5|                 1014|                  2|              99.96|                   49.98|\n",
      "|       5|2013-07-25 00:00:...|        11318|       COMPLETE|           12|                  5|                  957|                  1|             299.98|                  299.98|\n",
      "|       5|2013-07-25 00:00:...|        11318|       COMPLETE|           13|                  5|                  403|                  1|             129.99|                  129.99|\n",
      "|       7|2013-07-25 00:00:...|         4530|       COMPLETE|           14|                  7|                 1073|                  1|             199.99|                  199.99|\n",
      "|       7|2013-07-25 00:00:...|         4530|       COMPLETE|           15|                  7|                  957|                  1|             299.98|                  299.98|\n",
      "|       7|2013-07-25 00:00:...|         4530|       COMPLETE|           16|                  7|                  926|                  5|              79.95|                   15.99|\n",
      "|       8|2013-07-25 00:00:...|         2911|     PROCESSING|           17|                  8|                  365|                  3|             179.97|                   59.99|\n",
      "|       8|2013-07-25 00:00:...|         2911|     PROCESSING|           18|                  8|                  365|                  5|             299.95|                   59.99|\n",
      "|       8|2013-07-25 00:00:...|         2911|     PROCESSING|           19|                  8|                 1014|                  4|             199.92|                   49.98|\n",
      "|       8|2013-07-25 00:00:...|         2911|     PROCESSING|           20|                  8|                  502|                  1|               50.0|                    50.0|\n",
      "+--------+--------------------+-------------+---------------+-------------+-------------------+---------------------+-------------------+-------------------+------------------------+\n",
      "only showing top 20 rows\n",
      "\n"
     ]
    }
   ],
   "source": [
    "spark.sql('desc order_joined').show(truncate=False)\n",
    "joinedOrderDataDF.show()"
   ]
  },
  {
   "cell_type": "code",
   "execution_count": 68,
   "metadata": {},
   "outputs": [],
   "source": [
    "from pyspark.sql.functions import *\n",
    "sqlResult = spark.sql(\"select to_date(from_unixtime(cast(order_date/1000 as bigint))) as order_formatted_date, order_status, cast(sum(order_item_subtotal) as DECIMAL (10,2)) as total_amount, count(distinct(order_id)) as total_orders from order_joined group by to_date(from_unixtime(cast(order_date/1000 as bigint))), order_status order by order_formatted_date desc,order_status,total_amount desc, total_orders\");\n"
   ]
  },
  {
   "cell_type": "code",
   "execution_count": 69,
   "metadata": {},
   "outputs": [
    {
     "name": "stdout",
     "output_type": "stream",
     "text": [
      "+--------------------+---------------+------------+------------+\n",
      "|order_formatted_date|   order_status|total_amount|total_orders|\n",
      "+--------------------+---------------+------------+------------+\n",
      "|                null|       CANCELED|   696030.99|        1194|\n",
      "|                null|         CLOSED|  3736048.79|        6301|\n",
      "|                null|       COMPLETE| 11276933.69|       18965|\n",
      "|                null|        ON_HOLD|  1864731.24|        3193|\n",
      "|                null| PAYMENT_REVIEW|   357841.45|         608|\n",
      "|                null|        PENDING|  3851881.28|        6385|\n",
      "|                null|PENDING_PAYMENT|  7581671.05|       12581|\n",
      "|                null|     PROCESSING|  4190636.76|        6900|\n",
      "|                null|SUSPECTED_FRAUD|   766844.68|        1304|\n",
      "+--------------------+---------------+------------+------------+\n",
      "\n"
     ]
    }
   ],
   "source": [
    "sqlResult.show()"
   ]
  },
  {
   "cell_type": "code",
   "execution_count": null,
   "metadata": {},
   "outputs": [],
   "source": []
  }
 ],
 "metadata": {
  "kernelspec": {
   "display_name": "Pyspark 2",
   "language": "python",
   "name": "pyspark2"
  },
  "language_info": {
   "codemirror_mode": {
    "name": "ipython",
    "version": 3
   },
   "file_extension": ".py",
   "mimetype": "text/x-python",
   "name": "python",
   "nbconvert_exporter": "python",
   "pygments_lexer": "ipython3",
   "version": "3.6.8"
  }
 },
 "nbformat": 4,
 "nbformat_minor": 4
}
