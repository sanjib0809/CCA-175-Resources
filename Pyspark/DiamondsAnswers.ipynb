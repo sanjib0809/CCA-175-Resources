{
 "cells": [
  {
   "cell_type": "markdown",
   "metadata": {},
   "source": [
    " CLOUDERA CCA175 - PRACTISE TEST¶\n",
    "Question 0: Load practise dataset and manually define schema\n",
    "The dataset is stored here: /databricks-datasets/Rdatasets/data-001/csv/ggplot2/diamonds.csv\n",
    "\n",
    "Read it is as a csv, but include option(\"inferSchema\",\"false\") and manually define the schema. The Schema should have the form:\n",
    "\n",
    "index: integer (nullable = true)\n",
    "carat: double (nullable = true)\n",
    "cut: string (nullable = true)\n",
    "color: string (nullable = true)\n",
    "clarity: string (nullable = true)\n",
    "depth: double (nullable = true)\n",
    "table: double (nullable = true)\n",
    "price: integer (nullable = true)\n",
    "x: double (nullable = true)\n",
    "y: double (nullable = true)\n",
    "z: double (nullable = true)"
   ]
  },
  {
   "cell_type": "markdown",
   "metadata": {},
   "source": [
    "**Question 1 - Count how many diamonds are of each colour\n"
   ]
  },
  {
   "cell_type": "markdown",
   "metadata": {},
   "source": [
    "prob1 = spark.sql('select count(cut),color from diamonds group by color')\n",
    "prob1.show()"
   ]
  },
  {
   "cell_type": "markdown",
   "metadata": {},
   "source": [
    "\n",
    "**Question 2 - Make a new row which consists of the first letter of 'cut' followed by the 'color', with a space in between the two\n",
    "\n",
    "So for example if Cut = Ideal and Color = E, there should be a new column called 'CutColor' with 'I E'.\n",
    "\n",
    "Also, replace the Cut and Color columns by the CutColor column."
   ]
  },
  {
   "cell_type": "markdown",
   "metadata": {},
   "source": [
    "prob2=newData.withColumn('CutColor',concat(newData.cut.substr(0,1),newData.color))\n",
    "prob2.show()\n",
    "\n",
    "prob3 = prob2.drop('cut').drop('color')\n",
    "prob3.show()"
   ]
  },
  {
   "cell_type": "markdown",
   "metadata": {},
   "source": [
    "**Question 3 - Create two tables and then re-join them\n",
    "Define D1 to be a table with just the index and carat. Define D2 to be just the index and the price. Then rejoin the two of them to get a table with index, carat, and price."
   ]
  },
  {
   "cell_type": "markdown",
   "metadata": {},
   "source": [
    "\n",
    "d1 = newData.select('index','carat')\n",
    "d1.show()\n",
    "d2 = newData.select('index','price')\n",
    "d2.show()\n",
    "d3 = d1.join(d2,d1.index == d2.index).select(d1.index,d1.carat,d2.price)\n",
    "d3.show()\n",
    "/*"
   ]
  },
  {
   "cell_type": "markdown",
   "metadata": {},
   "source": [
    "**\n",
    "Question 4 - Multiply the dimensions to calculate volume, and then sort the entries by descending volume (with 2 decimal places).\n",
    "Tips: Look into the 'round' function, which can be used inside DF.select."
   ]
  },
  {
   "cell_type": "markdown",
   "metadata": {},
   "source": [
    "from pyspark.sql.functions import round\n",
    "volume = newData.withColumn('volume',round((newData.x * newData.y * newData.z),2))\n",
    "volume.show()\n"
   ]
  },
  {
   "cell_type": "code",
   "execution_count": null,
   "metadata": {},
   "outputs": [],
   "source": []
  }
 ],
 "metadata": {
  "kernelspec": {
   "display_name": "Pyspark 2",
   "language": "python",
   "name": "pyspark2"
  },
  "language_info": {
   "codemirror_mode": {
    "name": "ipython",
    "version": 3
   },
   "file_extension": ".py",
   "mimetype": "text/x-python",
   "name": "python",
   "nbconvert_exporter": "python",
   "pygments_lexer": "ipython3",
   "version": "3.6.8"
  }
 },
 "nbformat": 4,
 "nbformat_minor": 4
}
