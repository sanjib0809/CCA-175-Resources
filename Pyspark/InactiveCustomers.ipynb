{
 "cells": [
  {
   "cell_type": "code",
   "execution_count": 1,
   "metadata": {},
   "outputs": [],
   "source": [
    "from pyspark.sql import SparkSession"
   ]
  },
  {
   "cell_type": "code",
   "execution_count": 2,
   "metadata": {},
   "outputs": [],
   "source": [
    "spark = SparkSession.builder.master('yarn').appName('InactiveCustomers').getOrCreate()"
   ]
  },
  {
   "cell_type": "code",
   "execution_count": 3,
   "metadata": {},
   "outputs": [],
   "source": [
    "customers= spark.read.csv('/public/retail_db/customers',inferSchema=True).toDF('customer_id','Fname','Lname','email','password','street','city','state','zipcode')          \n",
    "                                                                                                                                                            "
   ]
  },
  {
   "cell_type": "code",
   "execution_count": 13,
   "metadata": {},
   "outputs": [
    {
     "name": "stdout",
     "output_type": "stream",
     "text": [
      "+-----------+-----------+---------+---------+---------+--------------------+-------------+-----+-------+\n",
      "|customer_id|      Fname|    Lname|    email| password|              street|         city|state|zipcode|\n",
      "+-----------+-----------+---------+---------+---------+--------------------+-------------+-----+-------+\n",
      "|          1|    Richard|Hernandez|XXXXXXXXX|XXXXXXXXX|  6303 Heather Plaza|  Brownsville|   TX|  78521|\n",
      "|          2|       Mary|  Barrett|XXXXXXXXX|XXXXXXXXX|9526 Noble Embers...|    Littleton|   CO|  80126|\n",
      "|          3|        Ann|    Smith|XXXXXXXXX|XXXXXXXXX|3422 Blue Pioneer...|       Caguas|   PR|    725|\n",
      "|          4|       Mary|    Jones|XXXXXXXXX|XXXXXXXXX|  8324 Little Common|   San Marcos|   CA|  92069|\n",
      "|          5|     Robert|   Hudson|XXXXXXXXX|XXXXXXXXX|10 Crystal River ...|       Caguas|   PR|    725|\n",
      "|          6|       Mary|    Smith|XXXXXXXXX|XXXXXXXXX|3151 Sleepy Quail...|      Passaic|   NJ|   7055|\n",
      "|          7|    Melissa|   Wilcox|XXXXXXXXX|XXXXXXXXX|9453 High Concession|       Caguas|   PR|    725|\n",
      "|          8|      Megan|    Smith|XXXXXXXXX|XXXXXXXXX|3047 Foggy Forest...|     Lawrence|   MA|   1841|\n",
      "|          9|       Mary|    Perez|XXXXXXXXX|XXXXXXXXX| 3616 Quaking Street|       Caguas|   PR|    725|\n",
      "|         10|    Melissa|    Smith|XXXXXXXXX|XXXXXXXXX|8598 Harvest Beac...|     Stafford|   VA|  22554|\n",
      "|         11|       Mary|  Huffman|XXXXXXXXX|XXXXXXXXX|    3169 Stony Woods|       Caguas|   PR|    725|\n",
      "|         12|Christopher|    Smith|XXXXXXXXX|XXXXXXXXX|5594 Jagged Ember...|  San Antonio|   TX|  78227|\n",
      "|         13|       Mary|  Baldwin|XXXXXXXXX|XXXXXXXXX|7922 Iron Oak Gar...|       Caguas|   PR|    725|\n",
      "|         14|  Katherine|    Smith|XXXXXXXXX|XXXXXXXXX|5666 Hazy Pony Sq...|  Pico Rivera|   CA|  90660|\n",
      "|         15|       Jane|     Luna|XXXXXXXXX|XXXXXXXXX|    673 Burning Glen|      Fontana|   CA|  92336|\n",
      "|         16|    Tiffany|    Smith|XXXXXXXXX|XXXXXXXXX|      6651 Iron Port|       Caguas|   PR|    725|\n",
      "|         17|       Mary| Robinson|XXXXXXXXX|XXXXXXXXX|     1325 Noble Pike|       Taylor|   MI|  48180|\n",
      "|         18|     Robert|    Smith|XXXXXXXXX|XXXXXXXXX|2734 Hazy Butterf...|     Martinez|   CA|  94553|\n",
      "|         19|  Stephanie| Mitchell|XXXXXXXXX|XXXXXXXXX|3543 Red Treasure...|       Caguas|   PR|    725|\n",
      "|         20|       Mary|    Ellis|XXXXXXXXX|XXXXXXXXX|      4703 Old Route|West New York|   NJ|   7093|\n",
      "+-----------+-----------+---------+---------+---------+--------------------+-------------+-----+-------+\n",
      "only showing top 20 rows\n",
      "\n"
     ]
    },
    {
     "data": {
      "text/plain": [
       "12435"
      ]
     },
     "execution_count": 13,
     "metadata": {},
     "output_type": "execute_result"
    }
   ],
   "source": [
    "customers.show()\n",
    "customers.count()"
   ]
  },
  {
   "cell_type": "code",
   "execution_count": 5,
   "metadata": {},
   "outputs": [],
   "source": [
    "orders = spark.read.csv('/public/retail_db/orders',inferSchema=True).toDF('order_id','order_date','order_cust_id','order_status')"
   ]
  },
  {
   "cell_type": "code",
   "execution_count": 14,
   "metadata": {},
   "outputs": [
    {
     "name": "stdout",
     "output_type": "stream",
     "text": [
      "+--------+-------------------+-------------+---------------+\n",
      "|order_id|         order_date|order_cust_id|   order_status|\n",
      "+--------+-------------------+-------------+---------------+\n",
      "|       1|2013-07-25 00:00:00|        11599|         CLOSED|\n",
      "|       2|2013-07-25 00:00:00|          256|PENDING_PAYMENT|\n",
      "|       3|2013-07-25 00:00:00|        12111|       COMPLETE|\n",
      "|       4|2013-07-25 00:00:00|         8827|         CLOSED|\n",
      "|       5|2013-07-25 00:00:00|        11318|       COMPLETE|\n",
      "|       6|2013-07-25 00:00:00|         7130|       COMPLETE|\n",
      "|       7|2013-07-25 00:00:00|         4530|       COMPLETE|\n",
      "|       8|2013-07-25 00:00:00|         2911|     PROCESSING|\n",
      "|       9|2013-07-25 00:00:00|         5657|PENDING_PAYMENT|\n",
      "|      10|2013-07-25 00:00:00|         5648|PENDING_PAYMENT|\n",
      "|      11|2013-07-25 00:00:00|          918| PAYMENT_REVIEW|\n",
      "|      12|2013-07-25 00:00:00|         1837|         CLOSED|\n",
      "|      13|2013-07-25 00:00:00|         9149|PENDING_PAYMENT|\n",
      "|      14|2013-07-25 00:00:00|         9842|     PROCESSING|\n",
      "|      15|2013-07-25 00:00:00|         2568|       COMPLETE|\n",
      "|      16|2013-07-25 00:00:00|         7276|PENDING_PAYMENT|\n",
      "|      17|2013-07-25 00:00:00|         2667|       COMPLETE|\n",
      "|      18|2013-07-25 00:00:00|         1205|         CLOSED|\n",
      "|      19|2013-07-25 00:00:00|         9488|PENDING_PAYMENT|\n",
      "|      20|2013-07-25 00:00:00|         9198|     PROCESSING|\n",
      "+--------+-------------------+-------------+---------------+\n",
      "only showing top 20 rows\n",
      "\n"
     ]
    },
    {
     "data": {
      "text/plain": [
       "68883"
      ]
     },
     "execution_count": 14,
     "metadata": {},
     "output_type": "execute_result"
    }
   ],
   "source": [
    "orders.show()\n",
    "orders.count()"
   ]
  },
  {
   "cell_type": "code",
   "execution_count": null,
   "metadata": {},
   "outputs": [],
   "source": [
    "#joins with DF"
   ]
  },
  {
   "cell_type": "code",
   "execution_count": 31,
   "metadata": {},
   "outputs": [
    {
     "name": "stdout",
     "output_type": "stream",
     "text": [
      "+-----------+-------+--------+---------+---------+----------------------------+-------------------+-----+-------+\n",
      "|customer_id|Fname  |Lname   |email    |password |street                      |city               |state|zipcode|\n",
      "+-----------+-------+--------+---------+---------+----------------------------+-------------------+-----+-------+\n",
      "|219        |Mary   |Harrell |XXXXXXXXX|XXXXXXXXX|9016 Foggy Robin Expressway |Denver             |CO   |80219  |\n",
      "|339        |Mary   |Greene  |XXXXXXXXX|XXXXXXXXX|4271 Hazy Close             |Long Beach         |CA   |90805  |\n",
      "|469        |Randy  |Smith   |XXXXXXXXX|XXXXXXXXX|252 Golden Goose Loop       |South San Francisco|CA   |94080  |\n",
      "|1187       |Dorothy|Vazquez |XXXXXXXXX|XXXXXXXXX|363 Green Goose Run         |Danbury            |CT   |6810   |\n",
      "|1481       |Grace  |Smith   |XXXXXXXXX|XXXXXXXXX|2171 Clear Lake Isle        |Caguas             |PR   |725    |\n",
      "|1808       |Albert |Ellison |XXXXXXXXX|XXXXXXXXX|9795 Heather Wynd           |Billings           |MT   |59102  |\n",
      "|2073       |Donna  |Stephens|XXXXXXXXX|XXXXXXXXX|9792 Cozy Corners           |Sunnyvale          |CA   |94087  |\n",
      "|2096       |Jose   |Tanner  |XXXXXXXXX|XXXXXXXXX|8976 Old Hickory Landing    |Bronx              |NY   |10467  |\n",
      "|2450       |James  |Smith   |XXXXXXXXX|XXXXXXXXX|4063 Little Creek Court     |Newark             |DE   |19702  |\n",
      "|4555       |Mary   |Smith   |XXXXXXXXX|XXXXXXXXX|5455 Red Lagoon Maze        |Caguas             |PR   |725    |\n",
      "|4927       |Carolyn|Green   |XXXXXXXXX|XXXXXXXXX|7550 Sleepy View Court      |Caguas             |PR   |725    |\n",
      "|6072       |Stephen|Smith   |XXXXXXXXX|XXXXXXXXX|849 Noble Apple Private     |Malden             |MA   |2148   |\n",
      "|6613       |Ashley |Smith   |XXXXXXXXX|XXXXXXXXX|9847 Dusty Horse Corner     |Caguas             |PR   |725    |\n",
      "|7011       |Kevin  |Smith   |XXXXXXXXX|XXXXXXXXX|1915 Thunder Hickory Freeway|Wyandotte          |MI   |48192  |\n",
      "|7552       |Carl   |Smith   |XXXXXXXXX|XXXXXXXXX|9966 Cinder Loop            |Howell             |MI   |48843  |\n",
      "|8243       |Gary   |Walker  |XXXXXXXXX|XXXXXXXXX|2447 Stony Barn Street      |New York           |NY   |10128  |\n",
      "|8343       |Mary   |Bolton  |XXXXXXXXX|XXXXXXXXX|7302 Sunny Valley           |Caguas             |PR   |725    |\n",
      "|8575       |Mary   |Mueller |XXXXXXXXX|XXXXXXXXX|9714 Emerald Bear Lookout   |Caguas             |PR   |725    |\n",
      "|8778       |Mary   |Smith   |XXXXXXXXX|XXXXXXXXX|4015 Tawny Rise Crescent    |Caguas             |PR   |725    |\n",
      "|8882       |Kenneth|Smith   |XXXXXXXXX|XXXXXXXXX|6754 Iron Leaf Line         |Hickory            |NC   |28601  |\n",
      "+-----------+-------+--------+---------+---------+----------------------------+-------------------+-----+-------+\n",
      "only showing top 20 rows\n",
      "\n"
     ]
    }
   ],
   "source": [
    "customers.join(orders,customers.customer_id == orders.order_cust_id,\"LeftAnti\").show(truncate=False)"
   ]
  },
  {
   "cell_type": "code",
   "execution_count": null,
   "metadata": {},
   "outputs": [],
   "source": []
  },
  {
   "cell_type": "markdown",
   "metadata": {},
   "source": [
    "**Spark Sql Joins**"
   ]
  },
  {
   "cell_type": "code",
   "execution_count": 7,
   "metadata": {},
   "outputs": [],
   "source": [
    "customers.createOrReplaceTempView('customers')"
   ]
  },
  {
   "cell_type": "code",
   "execution_count": 8,
   "metadata": {},
   "outputs": [],
   "source": [
    "orders.createOrReplaceTempView('orders')"
   ]
  },
  {
   "cell_type": "code",
   "execution_count": 21,
   "metadata": {},
   "outputs": [
    {
     "name": "stdout",
     "output_type": "stream",
     "text": [
      "+-----------+-------+--------+---------+---------+--------------------+-------------------+-----+-------+\n",
      "|customer_id|  Fname|   Lname|    email| password|              street|               city|state|zipcode|\n",
      "+-----------+-------+--------+---------+---------+--------------------+-------------------+-----+-------+\n",
      "|        219|   Mary| Harrell|XXXXXXXXX|XXXXXXXXX|9016 Foggy Robin ...|             Denver|   CO|  80219|\n",
      "|        339|   Mary|  Greene|XXXXXXXXX|XXXXXXXXX|     4271 Hazy Close|         Long Beach|   CA|  90805|\n",
      "|        469|  Randy|   Smith|XXXXXXXXX|XXXXXXXXX|252 Golden Goose ...|South San Francisco|   CA|  94080|\n",
      "|       1187|Dorothy| Vazquez|XXXXXXXXX|XXXXXXXXX| 363 Green Goose Run|            Danbury|   CT|   6810|\n",
      "|       1481|  Grace|   Smith|XXXXXXXXX|XXXXXXXXX|2171 Clear Lake Isle|             Caguas|   PR|    725|\n",
      "|       1808| Albert| Ellison|XXXXXXXXX|XXXXXXXXX|   9795 Heather Wynd|           Billings|   MT|  59102|\n",
      "|       2073|  Donna|Stephens|XXXXXXXXX|XXXXXXXXX|   9792 Cozy Corners|          Sunnyvale|   CA|  94087|\n",
      "|       2096|   Jose|  Tanner|XXXXXXXXX|XXXXXXXXX|8976 Old Hickory ...|              Bronx|   NY|  10467|\n",
      "|       2450|  James|   Smith|XXXXXXXXX|XXXXXXXXX|4063 Little Creek...|             Newark|   DE|  19702|\n",
      "|       4555|   Mary|   Smith|XXXXXXXXX|XXXXXXXXX|5455 Red Lagoon Maze|             Caguas|   PR|    725|\n",
      "|       4927|Carolyn|   Green|XXXXXXXXX|XXXXXXXXX|7550 Sleepy View ...|             Caguas|   PR|    725|\n",
      "|       6072|Stephen|   Smith|XXXXXXXXX|XXXXXXXXX|849 Noble Apple P...|             Malden|   MA|   2148|\n",
      "|       6613| Ashley|   Smith|XXXXXXXXX|XXXXXXXXX|9847 Dusty Horse ...|             Caguas|   PR|    725|\n",
      "|       7011|  Kevin|   Smith|XXXXXXXXX|XXXXXXXXX|1915 Thunder Hick...|          Wyandotte|   MI|  48192|\n",
      "|       7552|   Carl|   Smith|XXXXXXXXX|XXXXXXXXX|    9966 Cinder Loop|             Howell|   MI|  48843|\n",
      "|       8243|   Gary|  Walker|XXXXXXXXX|XXXXXXXXX|2447 Stony Barn S...|           New York|   NY|  10128|\n",
      "|       8343|   Mary|  Bolton|XXXXXXXXX|XXXXXXXXX|   7302 Sunny Valley|             Caguas|   PR|    725|\n",
      "|       8575|   Mary| Mueller|XXXXXXXXX|XXXXXXXXX|9714 Emerald Bear...|             Caguas|   PR|    725|\n",
      "|       8778|   Mary|   Smith|XXXXXXXXX|XXXXXXXXX|4015 Tawny Rise C...|             Caguas|   PR|    725|\n",
      "|       8882|Kenneth|   Smith|XXXXXXXXX|XXXXXXXXX| 6754 Iron Leaf Line|            Hickory|   NC|  28601|\n",
      "+-----------+-------+--------+---------+---------+--------------------+-------------------+-----+-------+\n",
      "only showing top 20 rows\n",
      "\n"
     ]
    }
   ],
   "source": [
    "data=spark.sql(\"select * from customers c left anti join orders o on o.order_cust_id=c.customer_id\")\n",
    "data.show()"
   ]
  },
  {
   "cell_type": "code",
   "execution_count": 32,
   "metadata": {},
   "outputs": [],
   "source": [
    "spark.stop()"
   ]
  },
  {
   "cell_type": "code",
   "execution_count": null,
   "metadata": {},
   "outputs": [],
   "source": []
  }
 ],
 "metadata": {
  "kernelspec": {
   "display_name": "Pyspark 2",
   "language": "python",
   "name": "pyspark2"
  },
  "language_info": {
   "codemirror_mode": {
    "name": "ipython",
    "version": 3
   },
   "file_extension": ".py",
   "mimetype": "text/x-python",
   "name": "python",
   "nbconvert_exporter": "python",
   "pygments_lexer": "ipython3",
   "version": "3.6.8"
  }
 },
 "nbformat": 4,
 "nbformat_minor": 4
}
