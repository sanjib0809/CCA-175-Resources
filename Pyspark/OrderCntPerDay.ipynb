{
 "cells": [
  {
   "cell_type": "markdown",
   "metadata": {},
   "source": [
    "**Get order count per day**"
   ]
  },
  {
   "cell_type": "code",
   "execution_count": 1,
   "metadata": {},
   "outputs": [],
   "source": [
    "from pyspark.sql import SparkSession\n",
    "spark = SparkSession.builder.master('yarn').appName('OrderCountPerDay').getOrCreate()"
   ]
  },
  {
   "cell_type": "code",
   "execution_count": 3,
   "metadata": {},
   "outputs": [
    {
     "name": "stdout",
     "output_type": "stream",
     "text": [
      "+--------+-------------------+-------------+---------------+\n",
      "|order_id|         order_date|order_cust_id|   order_status|\n",
      "+--------+-------------------+-------------+---------------+\n",
      "|       1|2013-07-25 00:00:00|        11599|         CLOSED|\n",
      "|       2|2013-07-25 00:00:00|          256|PENDING_PAYMENT|\n",
      "|       3|2013-07-25 00:00:00|        12111|       COMPLETE|\n",
      "|       4|2013-07-25 00:00:00|         8827|         CLOSED|\n",
      "|       5|2013-07-25 00:00:00|        11318|       COMPLETE|\n",
      "|       6|2013-07-25 00:00:00|         7130|       COMPLETE|\n",
      "|       7|2013-07-25 00:00:00|         4530|       COMPLETE|\n",
      "|       8|2013-07-25 00:00:00|         2911|     PROCESSING|\n",
      "|       9|2013-07-25 00:00:00|         5657|PENDING_PAYMENT|\n",
      "|      10|2013-07-25 00:00:00|         5648|PENDING_PAYMENT|\n",
      "|      11|2013-07-25 00:00:00|          918| PAYMENT_REVIEW|\n",
      "|      12|2013-07-25 00:00:00|         1837|         CLOSED|\n",
      "|      13|2013-07-25 00:00:00|         9149|PENDING_PAYMENT|\n",
      "|      14|2013-07-25 00:00:00|         9842|     PROCESSING|\n",
      "|      15|2013-07-25 00:00:00|         2568|       COMPLETE|\n",
      "|      16|2013-07-25 00:00:00|         7276|PENDING_PAYMENT|\n",
      "|      17|2013-07-25 00:00:00|         2667|       COMPLETE|\n",
      "|      18|2013-07-25 00:00:00|         1205|         CLOSED|\n",
      "|      19|2013-07-25 00:00:00|         9488|PENDING_PAYMENT|\n",
      "|      20|2013-07-25 00:00:00|         9198|     PROCESSING|\n",
      "+--------+-------------------+-------------+---------------+\n",
      "only showing top 20 rows\n",
      "\n"
     ]
    }
   ],
   "source": [
    "orders = spark.read.csv('/public/retail_db/orders',inferSchema=True).toDF('order_id','order_date','order_cust_id','order_status')\n",
    "orders.show()"
   ]
  },
  {
   "cell_type": "code",
   "execution_count": 4,
   "metadata": {},
   "outputs": [],
   "source": [
    "orders.registerTempTable('orders')"
   ]
  },
  {
   "cell_type": "code",
   "execution_count": 13,
   "metadata": {},
   "outputs": [
    {
     "name": "stdout",
     "output_type": "stream",
     "text": [
      "+---------------+---+\n",
      "|count(order_id)|day|\n",
      "+---------------+---+\n",
      "|           9735|  1|\n",
      "|           9292|  2|\n",
      "|           9964|  3|\n",
      "|           9758|  4|\n",
      "|           9862|  5|\n",
      "|          10288|  6|\n",
      "|           9984|  7|\n",
      "+---------------+---+\n",
      "\n"
     ]
    }
   ],
   "source": [
    "from pyspark.sql.functions import substring,dayofweek\n",
    "spark.sql('select  count(order_id),dayofweek(order_date) day from orders group by day order by day').show()"
   ]
  },
  {
   "cell_type": "code",
   "execution_count": null,
   "metadata": {},
   "outputs": [],
   "source": []
  }
 ],
 "metadata": {
  "kernelspec": {
   "display_name": "Pyspark 2",
   "language": "python",
   "name": "pyspark2"
  },
  "language_info": {
   "codemirror_mode": {
    "name": "ipython",
    "version": 3
   },
   "file_extension": ".py",
   "mimetype": "text/x-python",
   "name": "python",
   "nbconvert_exporter": "python",
   "pygments_lexer": "ipython3",
   "version": "3.6.8"
  }
 },
 "nbformat": 4,
 "nbformat_minor": 4
}
