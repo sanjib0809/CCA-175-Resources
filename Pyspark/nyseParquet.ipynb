{
 "cells": [
  {
   "cell_type": "markdown",
   "metadata": {},
   "source": [
    "**Data is available in local file system under /data/nyse (ls -ltr /data/nyse)\n",
    "Fields (stockticker:string, transactiondate:string, openprice:float, highprice:float, lowprice:float, closeprice:float, volume:bigint)\n",
    "Convert file format to parquet\n",
    "Save it /user/<YOUR_USER_ID>/nyse_parquet**"
   ]
  },
  {
   "cell_type": "code",
   "execution_count": 2,
   "metadata": {},
   "outputs": [],
   "source": [
    "from pyspark.sql import SparkSession\n",
    "spark = SparkSession.builder.master('yarn').appName('parquet').getOrCreate()"
   ]
  },
  {
   "cell_type": "code",
   "execution_count": 5,
   "metadata": {},
   "outputs": [],
   "source": [
    "data = spark.read.csv('/public/nyse').toDF('stockticker','transaction_date','openprice','highprice','lowprice','closeprice','volume')"
   ]
  },
  {
   "cell_type": "code",
   "execution_count": 6,
   "metadata": {},
   "outputs": [
    {
     "name": "stdout",
     "output_type": "stream",
     "text": [
      "+-----------+----------------+---------+---------+--------+----------+------+\n",
      "|stockticker|transaction_date|openprice|highprice|lowprice|closeprice|volume|\n",
      "+-----------+----------------+---------+---------+--------+----------+------+\n",
      "|          A|        20160101|    41.81|    41.81|   41.81|     41.81|     0|\n",
      "|         AA|        20160101|    29.61|    29.61|   29.61|     29.61|     0|\n",
      "|        AAC|        20160101|    19.06|    19.06|   19.06|     19.06|     0|\n",
      "|        AAN|        20160101|    22.39|    22.39|   22.39|     22.39|     0|\n",
      "|        AAP|        20160101|   150.51|   150.51|  150.51|    150.51|     0|\n",
      "|        AAT|        20160101|    38.35|    38.35|   38.35|     38.35|     0|\n",
      "|        AAV|        20160101|     5.08|     5.08|    5.08|      5.08|     0|\n",
      "|         AB|        20160101|    23.85|    23.85|   23.85|     23.85|     0|\n",
      "|        ABB|        20160101|    17.73|    17.73|   17.73|     17.73|     0|\n",
      "|       ABBV|        20160101|    59.24|    59.24|   59.24|     59.24|     0|\n",
      "|        ABC|        20160101|   103.71|   103.71|  103.71|    103.71|     0|\n",
      "|       ABEV|        20160101|     4.46|     4.46|    4.46|      4.46|     0|\n",
      "|        ABG|        20160101|    67.44|    67.44|   67.44|     67.44|     0|\n",
      "|        ABM|        20160101|    28.47|    28.47|   28.47|     28.47|     0|\n",
      "|        ABR|        20160101|     7.15|     7.15|    7.15|      7.15|     0|\n",
      "|      ABR-A|        20160101|     24.5|     24.5|    24.5|      24.5|     0|\n",
      "|      ABR-B|        20160101|    22.56|    22.56|   22.56|     22.56|     0|\n",
      "|      ABR-C|        20160101|    25.17|    25.17|   25.17|     25.17|     0|\n",
      "|       ABRN|        20160101|     24.6|     24.6|    24.6|      24.6|     0|\n",
      "|        ABT|        20160101|    44.91|    44.91|   44.91|     44.91|     0|\n",
      "+-----------+----------------+---------+---------+--------+----------+------+\n",
      "only showing top 20 rows\n",
      "\n"
     ]
    }
   ],
   "source": [
    "data.show()"
   ]
  },
  {
   "cell_type": "code",
   "execution_count": 17,
   "metadata": {},
   "outputs": [],
   "source": [
    "data.coalesce(3).write.format('parquet').option('compression','none').save('/user/indirameduri/parquet_nyse_nocompress')"
   ]
  },
  {
   "cell_type": "code",
   "execution_count": 21,
   "metadata": {},
   "outputs": [],
   "source": [
    "spark.stop()"
   ]
  },
  {
   "cell_type": "code",
   "execution_count": null,
   "metadata": {},
   "outputs": [],
   "source": []
  }
 ],
 "metadata": {
  "kernelspec": {
   "display_name": "Pyspark 2",
   "language": "python",
   "name": "pyspark2"
  },
  "language_info": {
   "codemirror_mode": {
    "name": "ipython",
    "version": 3
   },
   "file_extension": ".py",
   "mimetype": "text/x-python",
   "name": "python",
   "nbconvert_exporter": "python",
   "pygments_lexer": "ipython3",
   "version": "3.6.8"
  }
 },
 "nbformat": 4,
 "nbformat_minor": 4
}
