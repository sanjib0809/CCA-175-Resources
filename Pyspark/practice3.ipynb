{
 "cells": [
  {
   "cell_type": "code",
   "execution_count": 1,
   "metadata": {},
   "outputs": [],
   "source": [
    "from pyspark.sql import SparkSession\n",
    "from pyspark.sql.functions import *\n",
    "from pyspark.sql.window import *\n",
    "from pyspark.sql.types import *"
   ]
  },
  {
   "cell_type": "code",
   "execution_count": 2,
   "metadata": {},
   "outputs": [],
   "source": [
    "spark = SparkSession.builder.appName('practice3').master('yarn').getOrCreate()"
   ]
  },
  {
   "cell_type": "code",
   "execution_count": 3,
   "metadata": {},
   "outputs": [
    {
     "data": {
      "text/html": [
       "\n",
       "            <div>\n",
       "                <p><b>SparkSession - hive</b></p>\n",
       "                \n",
       "        <div>\n",
       "            <p><b>SparkContext</b></p>\n",
       "\n",
       "            <p><a href=\"http://gw03.itversity.com:4056\">Spark UI</a></p>\n",
       "\n",
       "            <dl>\n",
       "              <dt>Version</dt>\n",
       "                <dd><code>v2.3.0.2.6.5.0-292</code></dd>\n",
       "              <dt>Master</dt>\n",
       "                <dd><code>yarn</code></dd>\n",
       "              <dt>AppName</dt>\n",
       "                <dd><code>practice3</code></dd>\n",
       "            </dl>\n",
       "        </div>\n",
       "        \n",
       "            </div>\n",
       "        "
      ],
      "text/plain": [
       "<pyspark.sql.session.SparkSession at 0x7f65b6340b70>"
      ]
     },
     "execution_count": 3,
     "metadata": {},
     "output_type": "execute_result"
    }
   ],
   "source": [
    "spark"
   ]
  },
  {
   "cell_type": "code",
   "execution_count": 4,
   "metadata": {},
   "outputs": [
    {
     "name": "stdout",
     "output_type": "stream",
     "text": [
      "+-----------------+--------------------+--------+---------------+\n",
      "|order_customer_id|          order_date|order_id|   order_status|\n",
      "+-----------------+--------------------+--------+---------------+\n",
      "|            11599|2013-07-25 00:00:...|       1|         CLOSED|\n",
      "|              256|2013-07-25 00:00:...|       2|PENDING_PAYMENT|\n",
      "|            12111|2013-07-25 00:00:...|       3|       COMPLETE|\n",
      "|             8827|2013-07-25 00:00:...|       4|         CLOSED|\n",
      "|            11318|2013-07-25 00:00:...|       5|       COMPLETE|\n",
      "|             7130|2013-07-25 00:00:...|       6|       COMPLETE|\n",
      "|             4530|2013-07-25 00:00:...|       7|       COMPLETE|\n",
      "|             2911|2013-07-25 00:00:...|       8|     PROCESSING|\n",
      "|             5657|2013-07-25 00:00:...|       9|PENDING_PAYMENT|\n",
      "|             5648|2013-07-25 00:00:...|      10|PENDING_PAYMENT|\n",
      "|              918|2013-07-25 00:00:...|      11| PAYMENT_REVIEW|\n",
      "|             1837|2013-07-25 00:00:...|      12|         CLOSED|\n",
      "|             9149|2013-07-25 00:00:...|      13|PENDING_PAYMENT|\n",
      "|             9842|2013-07-25 00:00:...|      14|     PROCESSING|\n",
      "|             2568|2013-07-25 00:00:...|      15|       COMPLETE|\n",
      "|             7276|2013-07-25 00:00:...|      16|PENDING_PAYMENT|\n",
      "|             2667|2013-07-25 00:00:...|      17|       COMPLETE|\n",
      "|             1205|2013-07-25 00:00:...|      18|         CLOSED|\n",
      "|             9488|2013-07-25 00:00:...|      19|PENDING_PAYMENT|\n",
      "|             9198|2013-07-25 00:00:...|      20|     PROCESSING|\n",
      "+-----------------+--------------------+--------+---------------+\n",
      "only showing top 20 rows\n",
      "\n"
     ]
    }
   ],
   "source": [
    "orders = spark.read.json('/public/retail_db_json/orders')\n",
    "orders.show()"
   ]
  },
  {
   "cell_type": "code",
   "execution_count": 5,
   "metadata": {},
   "outputs": [
    {
     "data": {
      "text/plain": [
       "[('order_customer_id', 'bigint'),\n",
       " ('order_date', 'string'),\n",
       " ('order_id', 'bigint'),\n",
       " ('order_status', 'string')]"
      ]
     },
     "execution_count": 5,
     "metadata": {},
     "output_type": "execute_result"
    }
   ],
   "source": [
    "orders.dtypes"
   ]
  },
  {
   "cell_type": "code",
   "execution_count": 6,
   "metadata": {},
   "outputs": [
    {
     "name": "stdout",
     "output_type": "stream",
     "text": [
      "+-----+-----------+-------------+-----------+-----------+--------------+\n",
      "|oi_id|oi_order_id|oi_product_id|oi_quantity|oi_subtotal|oi_produtprice|\n",
      "+-----+-----------+-------------+-----------+-----------+--------------+\n",
      "|    1|          1|          957|          1|     299.98|        299.98|\n",
      "|    2|          2|         1073|          1|     199.99|        199.99|\n",
      "|    3|          2|          502|          5|      250.0|          50.0|\n",
      "|    4|          2|          403|          1|     129.99|        129.99|\n",
      "|    5|          4|          897|          2|      49.98|         24.99|\n",
      "|    6|          4|          365|          5|     299.95|         59.99|\n",
      "|    7|          4|          502|          3|      150.0|          50.0|\n",
      "|    8|          4|         1014|          4|     199.92|         49.98|\n",
      "|    9|          5|          957|          1|     299.98|        299.98|\n",
      "|   10|          5|          365|          5|     299.95|         59.99|\n",
      "|   11|          5|         1014|          2|      99.96|         49.98|\n",
      "|   12|          5|          957|          1|     299.98|        299.98|\n",
      "|   13|          5|          403|          1|     129.99|        129.99|\n",
      "|   14|          7|         1073|          1|     199.99|        199.99|\n",
      "|   15|          7|          957|          1|     299.98|        299.98|\n",
      "|   16|          7|          926|          5|      79.95|         15.99|\n",
      "|   17|          8|          365|          3|     179.97|         59.99|\n",
      "|   18|          8|          365|          5|     299.95|         59.99|\n",
      "|   19|          8|         1014|          4|     199.92|         49.98|\n",
      "|   20|          8|          502|          1|       50.0|          50.0|\n",
      "+-----+-----------+-------------+-----------+-----------+--------------+\n",
      "only showing top 20 rows\n",
      "\n"
     ]
    }
   ],
   "source": [
    "order_items = spark.read.csv('/public/retail_db/order_items',inferSchema=True). \\\n",
    "toDF('oi_id','oi_order_id','oi_product_id','oi_quantity','oi_subtotal','oi_produtprice')\n",
    "order_items.show()\n"
   ]
  },
  {
   "cell_type": "code",
   "execution_count": 7,
   "metadata": {},
   "outputs": [
    {
     "name": "stdout",
     "output_type": "stream",
     "text": [
      "+-----------+--------------+--------------+--------------+-----------------+--------------------+-------------+--------------+----------------+\n",
      "|customer_id|customer_fname|customer_lname|customer_email|customer_password|     customer_street|customer_city|customer_state|customer_zipcode|\n",
      "+-----------+--------------+--------------+--------------+-----------------+--------------------+-------------+--------------+----------------+\n",
      "|          1|       Richard|     Hernandez|     XXXXXXXXX|        XXXXXXXXX|  6303 Heather Plaza|  Brownsville|            TX|           78521|\n",
      "|          2|          Mary|       Barrett|     XXXXXXXXX|        XXXXXXXXX|9526 Noble Embers...|    Littleton|            CO|           80126|\n",
      "|          3|           Ann|         Smith|     XXXXXXXXX|        XXXXXXXXX|3422 Blue Pioneer...|       Caguas|            PR|           00725|\n",
      "|          4|          Mary|         Jones|     XXXXXXXXX|        XXXXXXXXX|  8324 Little Common|   San Marcos|            CA|           92069|\n",
      "|          5|        Robert|        Hudson|     XXXXXXXXX|        XXXXXXXXX|10 Crystal River ...|       Caguas|            PR|           00725|\n",
      "|          6|          Mary|         Smith|     XXXXXXXXX|        XXXXXXXXX|3151 Sleepy Quail...|      Passaic|            NJ|           07055|\n",
      "|          7|       Melissa|        Wilcox|     XXXXXXXXX|        XXXXXXXXX|9453 High Concession|       Caguas|            PR|           00725|\n",
      "|          8|         Megan|         Smith|     XXXXXXXXX|        XXXXXXXXX|3047 Foggy Forest...|     Lawrence|            MA|           01841|\n",
      "|          9|          Mary|         Perez|     XXXXXXXXX|        XXXXXXXXX| 3616 Quaking Street|       Caguas|            PR|           00725|\n",
      "|         10|       Melissa|         Smith|     XXXXXXXXX|        XXXXXXXXX|8598 Harvest Beac...|     Stafford|            VA|           22554|\n",
      "|         11|          Mary|       Huffman|     XXXXXXXXX|        XXXXXXXXX|    3169 Stony Woods|       Caguas|            PR|           00725|\n",
      "|         12|   Christopher|         Smith|     XXXXXXXXX|        XXXXXXXXX|5594 Jagged Ember...|  San Antonio|            TX|           78227|\n",
      "|         13|          Mary|       Baldwin|     XXXXXXXXX|        XXXXXXXXX|7922 Iron Oak Gar...|       Caguas|            PR|           00725|\n",
      "|         14|     Katherine|         Smith|     XXXXXXXXX|        XXXXXXXXX|5666 Hazy Pony Sq...|  Pico Rivera|            CA|           90660|\n",
      "|         15|          Jane|          Luna|     XXXXXXXXX|        XXXXXXXXX|    673 Burning Glen|      Fontana|            CA|           92336|\n",
      "|         16|       Tiffany|         Smith|     XXXXXXXXX|        XXXXXXXXX|      6651 Iron Port|       Caguas|            PR|           00725|\n",
      "|         17|          Mary|      Robinson|     XXXXXXXXX|        XXXXXXXXX|     1325 Noble Pike|       Taylor|            MI|           48180|\n",
      "|         18|        Robert|         Smith|     XXXXXXXXX|        XXXXXXXXX|2734 Hazy Butterf...|     Martinez|            CA|           94553|\n",
      "|         19|     Stephanie|      Mitchell|     XXXXXXXXX|        XXXXXXXXX|3543 Red Treasure...|       Caguas|            PR|           00725|\n",
      "|         20|          Mary|         Ellis|     XXXXXXXXX|        XXXXXXXXX|      4703 Old Route|West New York|            NJ|           07093|\n",
      "+-----------+--------------+--------------+--------------+-----------------+--------------------+-------------+--------------+----------------+\n",
      "only showing top 20 rows\n",
      "\n"
     ]
    }
   ],
   "source": [
    "customers = spark.read.csv('/public/retail_db/customers').toDF('customer_id','customer_fname','customer_lname','customer_email', \\\n",
    "                                                              'customer_password','customer_street','customer_city','customer_state','customer_zipcode')\n",
    "customers.show()"
   ]
  },
  {
   "cell_type": "code",
   "execution_count": 8,
   "metadata": {},
   "outputs": [
    {
     "name": "stdout",
     "output_type": "stream",
     "text": [
      "+-------+---------+\n",
      "|dept_id|dept_name|\n",
      "+-------+---------+\n",
      "|      2|  Fitness|\n",
      "|      3| Footwear|\n",
      "|      4|  Apparel|\n",
      "|      5|     Golf|\n",
      "|      6| Outdoors|\n",
      "|      7| Fan Shop|\n",
      "+-------+---------+\n",
      "\n"
     ]
    }
   ],
   "source": [
    "departments = spark.read.csv('/public/retail_db/departments').toDF('dept_id','dept_name')\n",
    "departments.show()"
   ]
  },
  {
   "cell_type": "code",
   "execution_count": 9,
   "metadata": {},
   "outputs": [
    {
     "name": "stdout",
     "output_type": "stream",
     "text": [
      "+----------+----------------+--------------------+------------+-------------+--------------------+\n",
      "|product_id|prod_category_id|        product_name|product_desc|product_price|       product_image|\n",
      "+----------+----------------+--------------------+------------+-------------+--------------------+\n",
      "|         1|               2|Quest Q64 10 FT. ...|        null|        59.98|http://images.acm...|\n",
      "|         2|               2|Under Armour Men'...|        null|       129.99|http://images.acm...|\n",
      "|         3|               2|Under Armour Men'...|        null|        89.99|http://images.acm...|\n",
      "|         4|               2|Under Armour Men'...|        null|        89.99|http://images.acm...|\n",
      "|         5|               2|Riddell Youth Rev...|        null|       199.99|http://images.acm...|\n",
      "|         6|               2|Jordan Men's VI R...|        null|       134.99|http://images.acm...|\n",
      "|         7|               2|Schutt Youth Recr...|        null|        99.99|http://images.acm...|\n",
      "|         8|               2|Nike Men's Vapor ...|        null|       129.99|http://images.acm...|\n",
      "|         9|               2|Nike Adult Vapor ...|        null|         50.0|http://images.acm...|\n",
      "|        10|               2|Under Armour Men'...|        null|       129.99|http://images.acm...|\n",
      "|        11|               2|Fitness Gear 300 ...|        null|       209.99|http://images.acm...|\n",
      "|        12|               2|Under Armour Men'...|        null|       139.99|http://images.acm...|\n",
      "|        13|               2|Under Armour Men'...|        null|        89.99|http://images.acm...|\n",
      "|        14|               2|Quik Shade Summit...|        null|       199.99|http://images.acm...|\n",
      "|        15|               2|Under Armour Kids...|        null|        59.99|http://images.acm...|\n",
      "|        16|               2|Riddell Youth 360...|        null|       299.99|http://images.acm...|\n",
      "|        17|               2|Under Armour Men'...|        null|       129.99|http://images.acm...|\n",
      "|        18|               2|Reebok Men's Full...|        null|        29.97|http://images.acm...|\n",
      "|        19|               2|Nike Men's Finger...|        null|       124.99|http://images.acm...|\n",
      "|        20|               2|Under Armour Men'...|        null|       129.99|http://images.acm...|\n",
      "+----------+----------------+--------------------+------------+-------------+--------------------+\n",
      "only showing top 20 rows\n",
      "\n"
     ]
    }
   ],
   "source": [
    "products = spark.read.csv('/public/retail_db/products'). \\\n",
    "toDF('product_id','prod_category_id','product_name','product_desc','product_price','product_image')\n",
    "products.show()"
   ]
  },
  {
   "cell_type": "markdown",
   "metadata": {},
   "source": [
    "**File Formats and Compressions**"
   ]
  },
  {
   "cell_type": "markdown",
   "metadata": {},
   "source": [
    "**1. Top N orders for the day based on order revenue**"
   ]
  },
  {
   "cell_type": "code",
   "execution_count": 10,
   "metadata": {},
   "outputs": [
    {
     "name": "stdout",
     "output_type": "stream",
     "text": [
      "+----------------------------+----------+\n",
      "|date_format(order_date, EEE)|   Revenue|\n",
      "+----------------------------+----------+\n",
      "|                         Sun| 4846988.5|\n",
      "|                         Mon|4558745.38|\n",
      "|                         Thu|4977875.18|\n",
      "|                         Sat|4946465.98|\n",
      "|                         Wed|4904572.31|\n",
      "|                         Fri|5172864.23|\n",
      "|                         Tue|4915108.35|\n",
      "+----------------------------+----------+\n",
      "\n"
     ]
    }
   ],
   "source": [
    "#df methods top 5\n",
    "joins = orders.join(order_items,orders.order_id==order_items.oi_order_id). \\\n",
    "groupBy(date_format('order_date','EEE')).agg(round(sum('oi_subtotal'),2).alias('Revenue'))\n",
    "joins.show()"
   ]
  },
  {
   "cell_type": "code",
   "execution_count": 11,
   "metadata": {},
   "outputs": [
    {
     "name": "stdout",
     "output_type": "stream",
     "text": [
      "+--------------------+---------+\n",
      "|          order_date|  Revenue|\n",
      "+--------------------+---------+\n",
      "|2013-08-13 00:00:...| 39874.52|\n",
      "|2013-10-12 00:00:...| 82006.54|\n",
      "|2013-11-15 00:00:...| 68376.09|\n",
      "|2014-03-19 00:00:...| 66732.76|\n",
      "|2014-04-26 00:00:...|119101.07|\n",
      "|2013-09-16 00:00:...| 56720.41|\n",
      "|2013-09-20 00:00:...| 82662.51|\n",
      "|2013-12-31 00:00:...|123799.52|\n",
      "|2013-09-06 00:00:...|140273.12|\n",
      "|2014-06-15 00:00:...| 61027.73|\n",
      "|2013-12-24 00:00:...| 89744.21|\n",
      "|2014-01-07 00:00:...| 84361.59|\n",
      "|2014-06-07 00:00:...| 98239.16|\n",
      "|2013-10-14 00:00:...| 61613.75|\n",
      "|2013-11-11 00:00:...|114429.75|\n",
      "|2014-01-27 00:00:...| 72634.57|\n",
      "|2014-01-29 00:00:...| 87500.16|\n",
      "|2014-02-14 00:00:...| 79936.26|\n",
      "|2014-04-15 00:00:...|104220.93|\n",
      "|2014-04-22 00:00:...| 75229.12|\n",
      "+--------------------+---------+\n",
      "only showing top 20 rows\n",
      "\n"
     ]
    }
   ],
   "source": [
    "joins = orders.join(order_items,orders.order_id==order_items.oi_order_id). \\\n",
    "groupBy('order_date').agg(round(sum('oi_subtotal'),2).alias('Revenue'))\n",
    "joins.show()"
   ]
  },
  {
   "cell_type": "code",
   "execution_count": 12,
   "metadata": {},
   "outputs": [
    {
     "name": "stdout",
     "output_type": "stream",
     "text": [
      "+--------------------+---------+---+\n",
      "|          order_date|  Revenue|rnk|\n",
      "+--------------------+---------+---+\n",
      "|2013-08-13 00:00:...| 39874.52|  1|\n",
      "|2013-10-12 00:00:...| 82006.54|  1|\n",
      "|2013-11-15 00:00:...| 68376.09|  1|\n",
      "|2014-03-19 00:00:...| 66732.76|  1|\n",
      "|2014-04-26 00:00:...|119101.07|  1|\n",
      "|2013-09-16 00:00:...| 56720.41|  1|\n",
      "|2013-09-20 00:00:...| 82662.51|  1|\n",
      "|2013-12-31 00:00:...|123799.52|  1|\n",
      "|2013-09-06 00:00:...|140273.12|  1|\n",
      "|2014-06-15 00:00:...| 61027.73|  1|\n",
      "|2013-12-24 00:00:...| 89744.21|  1|\n",
      "|2014-01-07 00:00:...| 84361.59|  1|\n",
      "|2014-06-07 00:00:...| 98239.16|  1|\n",
      "|2013-10-14 00:00:...| 61613.75|  1|\n",
      "|2013-11-11 00:00:...|114429.75|  1|\n",
      "|2014-01-27 00:00:...| 72634.57|  1|\n",
      "|2014-01-29 00:00:...| 87500.16|  1|\n",
      "|2014-02-14 00:00:...| 79936.26|  1|\n",
      "|2014-04-15 00:00:...|104220.93|  1|\n",
      "|2014-04-22 00:00:...| 75229.12|  1|\n",
      "+--------------------+---------+---+\n",
      "only showing top 20 rows\n",
      "\n"
     ]
    }
   ],
   "source": [
    "rnk= joins.withColumn('rnk',dense_rank().over(Window.partitionBy('order_date').orderBy(desc('Revenue'))))\n",
    "rnk.show()"
   ]
  },
  {
   "cell_type": "code",
   "execution_count": 13,
   "metadata": {},
   "outputs": [],
   "source": [
    "spark.stop()"
   ]
  },
  {
   "cell_type": "code",
   "execution_count": null,
   "metadata": {},
   "outputs": [],
   "source": []
  }
 ],
 "metadata": {
  "kernelspec": {
   "display_name": "Pyspark 2",
   "language": "python",
   "name": "pyspark2"
  },
  "language_info": {
   "codemirror_mode": {
    "name": "ipython",
    "version": 3
   },
   "file_extension": ".py",
   "mimetype": "text/x-python",
   "name": "python",
   "nbconvert_exporter": "python",
   "pygments_lexer": "ipython3",
   "version": "3.6.8"
  }
 },
 "nbformat": 4,
 "nbformat_minor": 4
}
