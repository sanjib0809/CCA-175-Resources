{
 "cells": [
  {
   "cell_type": "code",
   "execution_count": 1,
   "metadata": {},
   "outputs": [],
   "source": [
    "from pyspark import SparkContext,SparkConf\n",
    "from pyspark.sql import SparkSession"
   ]
  },
  {
   "cell_type": "code",
   "execution_count": 2,
   "metadata": {},
   "outputs": [],
   "source": [
    "conf = SparkConf().setAppName('wordcount').setMaster('yarn')\n",
    "sc = SparkContext(conf=conf)"
   ]
  },
  {
   "cell_type": "code",
   "execution_count": 3,
   "metadata": {},
   "outputs": [
    {
     "data": {
      "text/plain": [
       "'SEQ\\x06\\x19org.apache.hadoop.io.Text\\x19org.apache.hadoop.io.Text\\x00\\x00\\x00\\x00\\x00\\x00�g\\x05\\x081��J$�ג\\x1ad�\\x08\\x00\\x00\\x02�\\x00\\x00\\x00XWpterostigma steprelationship pleasurehood abusiveness seelful unstipulated winterproof �\\x02gmericarp pentosuria airfreighter orthopedical symbiogenetically Hu unrepealably Gothish unachievable saguran extraorganismal defensibly taver cubby uniarticular allegedly Isokontae trabecular uniarticular diminutively epidymides engrain yawler bunghole Munnopsidae coadvice tonsure inexistency theologicopolitical unsupercilious porriginous reformatory winterproof lyrebird bestill oflete agglomeratic abstractionism dermorhynchous Eryon approbation uninductive pachydermous ipomoein cretaceous helpless heliocentricism tingly Eleusinian Zuludom hemimelus serosanguineous Italical eristically trillium overinstruct \\x00\\x00\\x01d\\x00\\x00\\x00YXautobiographist neurotrophic pseudoxanthine quintette valvula pleasurehood preaffiliate �\\x01\\x08instructiveness fetlocked elemicin astronomize vitally ununiformly parmelioid inferent oratorship frameable Lentibulariaceae tricae havoc thorite Edo monilioid archididascalian squdge tonsure pony unpremonished shellworker imperceptivity zenick Jerusalem retinize \\x00\\x00\\x02�\\x00\\x00\\x00?>subdrainage metrocratic seeingness evictor angiopathy various �\\x02�phallaceous by oinomancy subtransverse wemless danseuse circular perculsive subfoliar groundneedle vitally cockal verbid cloy nonrepetition myesthesia magnificently putative kenno unharmed unexplicit unefficient Hysterocarpus crystallographical potentness cyanophilous pseudohalogen Prosobranchiata theologal oversand yote stradametrical Semecarpus glossing Hysterocarpus stroking Whilkut myesthesia topline dosseret inertly spiranthic bromate diminutively subirrigate cumbrousness mutter helminthagogic Bulanda arduousness zenick tomorrowness rave idiotize downthrust chilblain sapphiric thermanesthesia shellworker tetrahedral saccharogenic osteopaedion \\x00\\x00\\x01�\\x00\\x00\\x0021bromate decardinalize proacquittal pope nectopod �\\x01pporencephalous boor mediateness adscendent shola mesophyte apopenptic scrubbed agglomeratic digitule trip pomiferous sesquiquintile scapuloradial arrowworm dispermy biodynamics merciful bubble Bertat poleax ethmopalatal pyxie volcano brutism Bermudian sedentariness Semecarpus imaginary Quakerishly Cercosporella transcortical groundneedle familist Christianopaganism �����g\\x05\\x081��J$�ג\\x1ad�\\x08\\x00\\x00\\x03X\\x00\\x00\\x0054wherefrom quailberry preagitate Uraniidae heavenful �\\x03 bugre stentorophonic impressor gymnastic neurodegenerative familist scapuloradial toxoplasmosis chorograph dermorhynchous pneumatotherapy thiodiazole abscission comism starer plerome okonite unstipulated peptonate abthainry phallaceous heliocentricism allotropic gunshop ultraobscure hepatorrhaphy diathermacy overcrown uncarefully ordinant unpatched Pishquow breadwinner potentness Pincian fetlocked noncrystallized daytime experientialist by unpatched almud Passiflorales apocalypst unprovided balladmonger Tsonecan unaccessible Vichyite imaginary Bulanda eulogization wherefrom spherulitic goodwill chargeably silverhead disilane biodynamics uniarticular squdge Bulanda scabbardless endotheliomyoma steprelationship decidable gala unlapsing consumptional cylindric serosanguineous trunnel besagne \\x00\\x00\\x01�\\x00\\x00\\x00edgemmeous yote allegedly gallybeggar Chiasmodontidae experientialist unexplicit precostal impairment �\\x01rploration tingly imaginary neurodegenerative raphis Lemuridae erythremia pyroacetic migrainoid trillium unevoked champer topsail blightbird sonable bladderwort inductivity defensibly unleavened unscourged friarhood breadwinner Cercosporella vitally trip ornithodelphous nonexecutive antiscolic nativeness rosaniline acocotl trabecular Glecoma aspersor lampyrine dinical \\x00\\x00\\x01\\x07\\x00\\x00\\x00VUinvolatile saguran gunshop catabaptist flippantness bladderwort ploration weism knob ��metaphonical devilwise outwealth eristically Dictograph autobiographist pterostigma pamphlet Triphora overcultured triradiated Bushongo cobeliever Triconodonta proboscidiform \\x00\\x00\\x02@\\x00\\x00\\x00BAcharioteer bladderwort Saponaria disilane pseudoxanthine enhedge �\\x01�Megaluridae hemimelus intrabred pendulant dosseret enhedge chooser aconitine diathermacy metapolitics supraoesophageal abstractionism tetrahedral overcontribute Fameuse ferrogoslarite Edo antiscolic counteralliance leucophoenicite prolificy Lemuridae biopsic cubit prescriptible pleasurehood nonexecutive ordinant overcultured guanajuatite sequestrum parabolicness unobservantness marshiness repealableness deaf rechar oratorship cinque Munnopsidae antihero saguran acidophile yeat drome upswell subofficer �����g\\x05\\x081��J$�ג\\x1ad�\\x08\\x00\\x00\\x025\\x00\\x00\\x0065nonrepetition Christianopaganism Glecoma cloy marten �\\x01�unpatched cloy figureheadship angiolymphoma theologicopolitical manilla karyological sesquiquintile undercolored trillium nebular stroking cobeliever reformatory hemimelus Dadaism pentafid benthonic periclitation japanned metopon tingly bestill regardful Gothish euphemize gelatinousness bugre posttraumatic totaquina sheepskin erlking unaccessible evictor swoony componental sloped discipular seditious knob imprescribable testa redesertion admissory noncrystallized bozal archididascalian imaginary squdge \\x00\\x00\\x02�\\x00\\x00\\x00A@disilane Dunlop comprovincial glandularly cockstone arrendation �\\x02jungreat zoonitic Inger twinling roughcast heliocentricism unstressedly Bermudian parabolicness ell uninductive lifter ploration rosaniline involatile admissory haply chargeably nonutilitarian bought nebular brooky serosanguineous thorite sombreroed antiscolic semiangle warriorwise debromination misexposition unchatteled fossilism outwealth bonze propheticism stormy transcorporeal nonexecutive ultrasystematic lineamental oblongly ultratense daytime paradisean admissory Christianopaganism Christianopaganism scrat helminthagogic prezygapophysial embryotic photoelasticity ramosopalmate counteralliance antineuritic \\x00\\x00\\x02T\\x00\\x00\\x00TSSocraticism peptonate paranephros subfoliar focaloid amplexifoliate frenal analgic �\\x01�squdge daytime diatomaceous Christianopaganism sedentariness mammonish signifier chronographic kerykeion phoenicochroite perculsive sural oversand bettermost mastication Tamil dithery centrifugalization oflete antideflation cheesecutter pumpkinification rehabilitative upcushion Lemuridae fallacious sesquiquintile codisjunct zoonitic stentorophonic debromination ultratense Isokontae ultratense homotransplant trailmaking bacillite chacona flushgate subdrainage hysterolysis yeat besagne Machiavel redescend \\x00\\x00\\x01�\\x00\\x00\\x00NMmetrocratic timbermonger comprovincial tomorn anta phoenicochroite splenauxe �\\x014Inger triradiated arsenide aquiline benzothiofuran seelful monstership comparability paranephros dipsomaniacal arteriasis orchiocatabasis reperuse cornberry hypochondriacism misthread metoxazine unrepealably bucketer collegian commandingness homotransplant sombreroed allotropic elastivity culm unisexuality �����g\\x05\\x081��J$�ג\\x1ad�\\x08\\x00\\x00\\x00�\\x00\\x00\\x00/.aprosopia pamphlet rizzomed swangy arteriasis ��noncrystallized Eryon mediateness hemimelus codisjunct unbashfulness circular proacquittal sud allotropic bladderwort prospectiveness trillion laubanite scyphostoma Saponaria Italical constitutor \\x00\\x00\\x02x\\x00\\x00\\x00QPcommandingness gunshop Thraupidae incomprehensible pentafid subdrainage gunshop �\\x02$mendacity astronomize terrificness pentosuria uncombable swoony Munnopsidae metastoma uloid preagitate cromlech Aktistetae omniscribent byroad taurocolla cartful marshiness outhue pondside reeveland glandularly undeterring glacierist erlking reconciliable thermochemically abthainry farrantly trisilicic undecorated Fameuse friarhood comism boser pneumatotherapy Protestantize abscission champer flippantness stentorophonic volcano Megaluridae coadvice homotransplant exprobratory plerome Cephalodiscus classificational comparability brag serphoid \\x00\\x00\\x00�\\x00\\x00\\x00LKChristianopaganism mammonish ultrasystematic unleavened serpentinic diwata labscission galbulus semantician appetible parquet ell antalgol sportswomanship arrendation stapedius obolus \\x00\\x00\\x03\\x02\\x00\\x00\\x00JIimpressor antihero photoelasticity canicule marten serphoid macropterous �\\x02�lyrebird seminonflammable prolificy giantly relaster Jerusalem underskin scotale unpatched propheticism taurocolla unrealize admissory ungreat physiologian hondo balanocele tailoress scabbardless pictorially barkometer codisjunct nonprofession scabbardless Sebastian arrowworm unleavened ribaldrous saponaceous counteractively reconciliable tomorrowness parquet Alethea unisexuality neuromimesis archistome tailoress trabecular neuromimesis papery ovopyriform choralcelo elastivity laurinoxylon autobiographist stroking toxoplasmosis Megaluridae affaite shellworker louse merciful generalizable Jerusalem ungreat Thraupidae eurythermal provedore engrain mutter oratorize beneficent subdentate \\x00\\x00\\x02f\\x00\\x00\\x00babunghole manilla byroad uninterpleaded pneumonalgia Triconodonta centrifugalization doubtingness �\\x02\\x01Savitar aneurism elemicin warriorwise micromembrane unaccessible autoschediastical nonprofession agglomeratic lithotresis decardinalize chronographic ungouged Russifier Effie pneumatotherapy Pithecolobium omniscribent parodist entame chronist knob brutism Homoiousian cloy abstractionism phoenicochroite homotransplant taver umbellic cubby lophotrichic unburnt playfellowship vesperal cyanoguanidine comism bladderwort neurotrophic unimmortal Coniferae collegian reciprocation Caphtor arval Hester erythrodextrin �����g\\x05\\x081��J$�ג\\x1ad�\\x08\\x00\\x00\\x00�\\x00\\x00\\x0043goladar hymnic bunghole Triconodonta mendacity gul ��balanocele reeveland epididymitis arduousness allotropic intrabred Lincolnlike propodiale thermanesthesia familist pterostigma cretaceous \\x00\\x00\\x00�\\x00\\x00\\x00ONaconitine Auriculariales circumzenithal isopelletierin refective depressingly uhepatorrhaphy saguran mutter Hu boor corbel barkometer beneficent pelf gallybeggar leucophoenicite squit shellworker \\x00\\x00\\x022\\x00\\x00\\x00DCineunt relaster Mesua wherefrom moodishness figureheadship trunnel �\\x01�uninhabitedness Helvidian tingly stronghearted analgize nonsuppressed knob crystallographical aconitine antiscolic patroller subdentate neuromimesis Socraticism prospectiveness arteriasis preagitate quad Semecarpus paunchy affaite saguran chronographic tartrous swearingly Fouquieria Shiah shallowish eulogization skyshine Triconodonta hondo Uraniidae rave biopsic hepatorrhaphy testa glandularly naprapath sviatonosite flatman metaphrastical Serrifera undiffusive Chiasmodontidae cacuminal \\x00\\x00\\x02\\x16\\x00\\x00\\x00IHdinical imprescribable unsupercilious breadwinner adz refective saguran �\\x01�laubanite oxyterpene zanyism planispheric semiangle interruptor Dodecatheon laubanite Endomycetaceae Protestantize erythrodextrin leucophoenicite winterproof gallybeggar placatory visceral mangonism deepmost consumptional rehabilitative undinted trillium unprovided bespin liquidity knob tetchy posttraumatic dishpan reappreciate visceral Joachimite steprelationship merciful Protestantize astronomize choralcelo unpredict gala testa omniscribent undangered \\x00\\x00\\x03i\\x00\\x00\\x00HGtemporomastoid appetible heavenful subtransverse testa electrotechnics �\\x03\\x1etum serpentinic comprovincial atlantite ambitus unefficient Bassaris critically expiscate Homoiousian transude apocalypst venialness sandbox Cercosporella magnetooptics trophonema oflete frenal barkometer bacterioblast Ghent Gilaki pneumatotherapy becomma uncontradictableness edificator pneumonalgia inexistency porencephalous various cloy licitness dehairer Dawsonia uninductive molossic silverhead unisexuality arrowworm lifter gelatinousness analgize unimmortal sviatonosite pomiferous decidable disilane cloy trip veterinarian catabaptist euphemious poleax vesperal laryngic meloplasty nonmanufacture squdge Munychian mesophyte inferent Ludgatian weism unburnt aquiline relaster uloid erythremia cylindric parquet wemless unurban stewardship interfraternal componental seeingness hysterolysis �����g\\x05\\x081��J$�ג\\x1ad�\\x08\\x00\\x00\\x04:\\x00\\x00\\x00^]astucious meloplasty prescriber homeotypical bought monilioid limpet carposporangial Zuludom �\\x03�hysterolysis mesymnion calabazilla epididymitis planispheric atlantite nonlustrous sural silverhead cinque preoral Lentibulariaceae bonze sertularian arsenide neurotrophic chronographic stradametrical brag antiadiaphorist parabolicness smokefarthings autobiographist lophotrichic fallacious warriorwise stentorophonic subfoliar upswell helminthagogic atlantite arteriasis templar tambo seizing tetragynian diopside precostal sandbox slipped chrysochrous minniebush comism arsenide beatable reperuse dinical countergabion bicorporeal Semecarpus reeveland elastivity tautness calycular squdge moodishness undeterring frenal omega sequentially shellworker lampyrine taver participatingly reformatory magnificently edificator frictionlessly cornberry bought uninterpleaded patroller Aplacentalia frameable reeveland overbuilt zoonitic nonpoisonous scabbiness Dictograph undiffusive uvanite ascitic reappreciate shibuichi nonrepetition ovopyriform depressingly ungrave cretaceous lienteria \\x00\\x00\\x01U\\x00\\x00\\x00HGtrip quailberry transcortical tetragynian manny regardful pleasurehood �\\x01'"
      ]
     },
     "execution_count": 3,
     "metadata": {},
     "output_type": "execute_result"
    }
   ],
   "source": [
    "data = sc.textFile('/public/randomtextwriter')\n",
    "data.first()"
   ]
  },
  {
   "cell_type": "code",
   "execution_count": 4,
   "metadata": {},
   "outputs": [
    {
     "data": {
      "text/plain": [
       "['SEQ\\x06\\x19org.apache.hadoop.io.Text\\x19org.apache.hadoop.io.Text\\x00\\x00\\x00\\x00\\x00\\x00�g\\x05\\x081��J$�ג\\x1ad�\\x08\\x00\\x00\\x02�\\x00\\x00\\x00XWpterostigma',\n",
       " 'steprelationship',\n",
       " 'pleasurehood',\n",
       " 'abusiveness',\n",
       " 'seelful',\n",
       " 'unstipulated',\n",
       " 'winterproof',\n",
       " '�\\x02gmericarp',\n",
       " 'pentosuria',\n",
       " 'airfreighter']"
      ]
     },
     "execution_count": 4,
     "metadata": {},
     "output_type": "execute_result"
    }
   ],
   "source": [
    "fmaprdd= data.flatMap(lambda word: word.split(' '))\n",
    "fmaprdd.take(10)"
   ]
  },
  {
   "cell_type": "code",
   "execution_count": 5,
   "metadata": {},
   "outputs": [
    {
     "data": {
      "text/plain": [
       "[('SEQ\\x06\\x19org.apache.hadoop.io.Text\\x19org.apache.hadoop.io.Text\\x00\\x00\\x00\\x00\\x00\\x00�g\\x05\\x081��J$�ג\\x1ad�\\x08\\x00\\x00\\x02�\\x00\\x00\\x00XWpterostigma',\n",
       "  1),\n",
       " ('steprelationship', 1),\n",
       " ('pleasurehood', 1),\n",
       " ('abusiveness', 1),\n",
       " ('seelful', 1),\n",
       " ('unstipulated', 1),\n",
       " ('winterproof', 1),\n",
       " ('�\\x02gmericarp', 1),\n",
       " ('pentosuria', 1),\n",
       " ('airfreighter', 1)]"
      ]
     },
     "execution_count": 5,
     "metadata": {},
     "output_type": "execute_result"
    }
   ],
   "source": [
    "maprdd = fmaprdd.map(lambda x: (x,1))\n",
    "maprdd.take(10)"
   ]
  },
  {
   "cell_type": "code",
   "execution_count": 6,
   "metadata": {},
   "outputs": [],
   "source": [
    "reduceRdd = maprdd.reduceByKey(lambda x,y: x+y ).sortByKey(ascending=False)\n",
    "\n"
   ]
  },
  {
   "cell_type": "code",
   "execution_count": null,
   "metadata": {},
   "outputs": [],
   "source": [
    "reduceRdd.collect()"
   ]
  },
  {
   "cell_type": "code",
   "execution_count": 8,
   "metadata": {},
   "outputs": [
    {
     "ename": "NameError",
     "evalue": "name 'spark' is not defined",
     "output_type": "error",
     "traceback": [
      "\u001b[0;31m---------------------------------------------------------------------------\u001b[0m",
      "\u001b[0;31mNameError\u001b[0m                                 Traceback (most recent call last)",
      "\u001b[0;32m<ipython-input-8-5c6b4d5d9db0>\u001b[0m in \u001b[0;36m<module>\u001b[0;34m\u001b[0m\n\u001b[0;32m----> 1\u001b[0;31m \u001b[0mspark\u001b[0m\u001b[0;34m.\u001b[0m\u001b[0mstop\u001b[0m\u001b[0;34m(\u001b[0m\u001b[0;34m)\u001b[0m\u001b[0;34m\u001b[0m\u001b[0;34m\u001b[0m\u001b[0m\n\u001b[0m",
      "\u001b[0;31mNameError\u001b[0m: name 'spark' is not defined"
     ]
    }
   ],
   "source": [
    "spark.stop()"
   ]
  },
  {
   "cell_type": "code",
   "execution_count": null,
   "metadata": {},
   "outputs": [],
   "source": []
  }
 ],
 "metadata": {
  "kernelspec": {
   "display_name": "Pyspark 2",
   "language": "python",
   "name": "pyspark2"
  },
  "language_info": {
   "codemirror_mode": {
    "name": "ipython",
    "version": 3
   },
   "file_extension": ".py",
   "mimetype": "text/x-python",
   "name": "python",
   "nbconvert_exporter": "python",
   "pygments_lexer": "ipython3",
   "version": "3.6.8"
  }
 },
 "nbformat": 4,
 "nbformat_minor": 4
}
